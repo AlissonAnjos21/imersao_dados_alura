{
  "nbformat": 4,
  "nbformat_minor": 0,
  "metadata": {
    "colab": {
      "name": "Aula 03 - Imersão de Dados 04 - Pesquisa de Imóveis em São Paulo",
      "provenance": [],
      "authorship_tag": "ABX9TyOSAlevLZAKm2qiIT6Pga2m"
    },
    "kernelspec": {
      "name": "python3",
      "display_name": "Python 3"
    },
    "language_info": {
      "name": "python"
    }
  },
  "cells": [
    {
      "cell_type": "markdown",
      "source": [
        "## Importando Arquivo"
      ],
      "metadata": {
        "id": "OgVayOqh8RkS"
      }
    },
    {
      "cell_type": "code",
      "execution_count": null,
      "metadata": {
        "id": "EPEhpzoN8L1d"
      },
      "outputs": [],
      "source": [
        "import pandas as pd\n",
        "import seaborn as sns\n",
        "import matplotlib.pyplot as plt\n",
        "\n",
        "path = 'https://gist.githubusercontent.com/tgcsantos/3bdb29eba6ce391e90df2b72205ba891/raw/22fa920e80c9fa209a9fccc8b52d74cc95d1599b/dados_imoveis.csv'\n",
        "data_base = pd.read_csv(path)\n",
        "\n",
        "data_base[['Moeda', 'Valor_Imovel', 'Tipo_de_Contrato']] = data_base['Valor'].str.split(expand = True)\n",
        "data_base_2 = data_base[data_base['Tipo_de_Contrato'].isnull()]\n",
        "data_base_2['Valor_Imovel_float'] = data_base_2['Valor_Imovel'].str.replace('.', '').astype(float)\n",
        "pd.set_option('display.precision', 2)\n",
        "pd.set_option('display.float_format', lambda x: '%.2f' % x)"
      ]
    },
    {
      "cell_type": "markdown",
      "source": [
        "## Aprendendo e Testando"
      ],
      "metadata": {
        "id": "TxDpTELy-c1N"
      }
    },
    {
      "cell_type": "code",
      "source": [
        ""
      ],
      "metadata": {
        "id": "R7AlaUAl-oR0"
      },
      "execution_count": null,
      "outputs": []
    },
    {
      "cell_type": "markdown",
      "source": [
        "## Desafios 🧐🤯😎:\n",
        "\n",
        "- Tentar vincular dados do IBGE com os dados de imóveis\n",
        "- Tratar os outliers e comparar com os resultados\n",
        "- Agrupar por mais de uma categoria e realizar as análises\n",
        "- Orgaize o colab para deixar com cara de projeto"
      ],
      "metadata": {
        "id": "m-Oyq9Q_-vqc"
      }
    },
    {
      "cell_type": "markdown",
      "source": [
        "#### Desafio 1: Tentar vincular dados do IBGE com os dados de imóveis."
      ],
      "metadata": {
        "id": "6QR7PsJn_REz"
      }
    },
    {
      "cell_type": "markdown",
      "source": [
        "#### Desafio 2: Tratar os outliers e comparar com os resultados."
      ],
      "metadata": {
        "id": "upCjL6r3_ecz"
      }
    },
    {
      "cell_type": "markdown",
      "source": [
        "#### Desafio 3: Agrupar por mais de uma categoria e realizar as análises."
      ],
      "metadata": {
        "id": "AJbq3lTh_ipi"
      }
    },
    {
      "cell_type": "markdown",
      "source": [
        "#### Desafio 4: Orgaize o colab para deixar com cara de projeto."
      ],
      "metadata": {
        "id": "6g3dMoKX_llz"
      }
    }
  ]
}